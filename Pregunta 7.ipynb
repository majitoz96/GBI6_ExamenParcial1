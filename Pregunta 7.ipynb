{
 "cells": [
  {
   "cell_type": "code",
   "execution_count": 1,
   "metadata": {},
   "outputs": [],
   "source": [
    "import numpy as np\n",
    "import pandas as pd\n",
    "#pregunta 7"
   ]
  },
  {
   "cell_type": "code",
   "execution_count": 6,
   "metadata": {},
   "outputs": [],
   "source": [
    "#Crea un diccionario de nombre dic_genomas donde se tenga la informacion de la tabla 1 que se encuentra en\n",
    "#https://www.nature.com/scitable/topicpage/eukaryotic-genome-complexity-437/"
   ]
  },
  {
   "cell_type": "code",
   "execution_count": 5,
   "metadata": {},
   "outputs": [],
   "source": [
    "#Utilice como \"key\" los valores especie de la columna \"Species and Common Name\" y las otras dos columnas igrese como \"values\"\n",
    "\n",
    "dic_genomas = {'Saccharomyces cerevisiae (unicellular budding yeast)':    {0: '12 million',\n",
    "                                                             1: '6,000'}, \n",
    " 'Trichomonas vaginalis':                                   {0: '160 million',\n",
    "                                                             1: '60,000'},\n",
    " 'Plasmodium falciparum (unicellular malaria parasite)':    {0: '23 million',\n",
    "                                                             1: '5,000'},\n",
    " 'Caenorhabditis elegans (nematode)':                       {0: '95.5 million',\n",
    "                                                             1: '18,000'},\n",
    " 'Drosophila melanogaster (fruit fly)':                     {0: '170 million',\n",
    "                                                             1: '14,000'},\n",
    " 'Arabidopsis thaliana (mustard; thale cress)':             {0: '125 million',\n",
    "                                                             1: '25,000'},\n",
    " 'Oryza sativa (rice)':                                     {0: '470 million',\n",
    "                                                             1: '51,000'},\n",
    " 'Gallus gallus (chicken)':                                  {0: '1 billion',\n",
    "                                                             1: '20,000-23,000'},\n",
    " 'Canis familiaris (domestic dog)':                          {0: '2.4 billion',\n",
    "                                                             1: '19,000'},\n",
    " 'Mus musculus (laboratory mouse)':                         {0: '2.5 billion',\n",
    "                                                             1: '30,000'},\n",
    " 'Homo sapiens (human)':                                     {0: '2.9 billion',\n",
    "                                                             1: '20,000-25,000'}}"
   ]
  },
  {
   "cell_type": "code",
   "execution_count": 6,
   "metadata": {},
   "outputs": [
    {
     "data": {
      "text/plain": [
       "{'Saccharomyces cerevisiae (unicellular budding yeast)': {0: '12 million',\n",
       "  1: '6,000'},\n",
       " 'Trichomonas vaginalis': {0: '160 million', 1: '60,000'},\n",
       " 'Plasmodium falciparum (unicellular malaria parasite)': {0: '23 million',\n",
       "  1: '5,000'},\n",
       " 'Caenorhabditis elegans (nematode)': {0: '95.5 million', 1: '18,000'},\n",
       " 'Drosophila melanogaster (fruit fly)': {0: '170 million', 1: '14,000'},\n",
       " 'Arabidopsis thaliana (mustard; thale cress)': {0: '125 million',\n",
       "  1: '25,000'},\n",
       " 'Oryza sativa (rice)': {0: '470 million', 1: '51,000'},\n",
       " 'Gallus gallus (chicken)': {0: '1 billion', 1: '20,000-23,000'},\n",
       " 'Canis familiaris (domestic dog)': {0: '2.4 billion', 1: '19,000'},\n",
       " 'Mus musculus (laboratory mouse)': {0: '2.5 billion', 1: '30,000'},\n",
       " 'Homo sapiens (human)': {0: '2.9 billion', 1: '20,000-25,000'}}"
      ]
     },
     "execution_count": 6,
     "metadata": {},
     "output_type": "execute_result"
    }
   ],
   "source": [
    "dic_genomas"
   ]
  },
  {
   "cell_type": "code",
   "execution_count": 21,
   "metadata": {},
   "outputs": [
    {
     "data": {
      "text/plain": [
       "['Saccharomyces cerevisiae (unicellular budding yeast)',\n",
       " 'Trichomonas vaginalis',\n",
       " 'Plasmodium falciparum (unicellular malaria parasite)',\n",
       " 'Caenorhabditis elegans (nematode)',\n",
       " 'Drosophila melanogaster (fruit fly)',\n",
       " 'Arabidopsis thaliana (mustard; thale cress)',\n",
       " 'Oryza sativa (rice)',\n",
       " 'Gallus gallus (chicken)',\n",
       " 'Canis familiaris (domestic dog)',\n",
       " 'Mus musculus (laboratory mouse)',\n",
       " 'Homo sapiens (human)']"
      ]
     },
     "execution_count": 21,
     "metadata": {},
     "output_type": "execute_result"
    }
   ],
   "source": [
    "#Luego de crear el diccionario extraiga los valores de \"key\" a una lista de nombre \"especie\"\n",
    "especie = list(dic_genomas.keys())\n",
    "especie"
   ]
  },
  {
   "cell_type": "code",
   "execution_count": 22,
   "metadata": {},
   "outputs": [
    {
     "data": {
      "text/plain": [
       "[{0: '12 million', 1: '6,000'},\n",
       " {0: '160 million', 1: '60,000'},\n",
       " {0: '23 million', 1: '5,000'},\n",
       " {0: '95.5 million', 1: '18,000'},\n",
       " {0: '170 million', 1: '14,000'},\n",
       " {0: '125 million', 1: '25,000'},\n",
       " {0: '470 million', 1: '51,000'},\n",
       " {0: '1 billion', 1: '20,000-23,000'},\n",
       " {0: '2.4 billion', 1: '19,000'},\n",
       " {0: '2.5 billion', 1: '30,000'},\n",
       " {0: '2.9 billion', 1: '20,000-25,000'}]"
      ]
     },
     "execution_count": 22,
     "metadata": {},
     "output_type": "execute_result"
    }
   ],
   "source": [
    "#extraiga los valores de \"value\" a una lista de nombre \"genomas\"\n",
    "genomas = list(dic_genomas.values())\n",
    "genomas"
   ]
  },
  {
   "cell_type": "code",
   "execution_count": null,
   "metadata": {},
   "outputs": [],
   "source": []
  }
 ],
 "metadata": {
  "kernelspec": {
   "display_name": "Python 3",
   "language": "python",
   "name": "python3"
  },
  "language_info": {
   "codemirror_mode": {
    "name": "ipython",
    "version": 3
   },
   "file_extension": ".py",
   "mimetype": "text/x-python",
   "name": "python",
   "nbconvert_exporter": "python",
   "pygments_lexer": "ipython3",
   "version": "3.7.6"
  }
 },
 "nbformat": 4,
 "nbformat_minor": 4
}
