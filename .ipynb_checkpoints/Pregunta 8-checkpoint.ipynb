{
 "cells": [
  {
   "cell_type": "code",
   "execution_count": 1,
   "metadata": {},
   "outputs": [],
   "source": [
    "import numpy as np\n",
    "import pandas as pd\n",
    "#pregunta 8"
   ]
  },
  {
   "cell_type": "code",
   "execution_count": 4,
   "metadata": {
    "scrolled": true
   },
   "outputs": [
    {
     "data": {
      "text/html": [
       "<div>\n",
       "<style scoped>\n",
       "    .dataframe tbody tr th:only-of-type {\n",
       "        vertical-align: middle;\n",
       "    }\n",
       "\n",
       "    .dataframe tbody tr th {\n",
       "        vertical-align: top;\n",
       "    }\n",
       "\n",
       "    .dataframe thead th {\n",
       "        text-align: right;\n",
       "    }\n",
       "</style>\n",
       "<table border=\"1\" class=\"dataframe\">\n",
       "  <thead>\n",
       "    <tr style=\"text-align: right;\">\n",
       "      <th></th>\n",
       "      <th>Common name</th>\n",
       "      <th>Genus species</th>\n",
       "      <th>Total sleep time, hr</th>\n",
       "      <th>REM sleep time, hr</th>\n",
       "      <th>sleep cycle time, min</th>\n",
       "      <th>Total awake time, hrs</th>\n",
       "      <th>(Total sleep time)/(Total awake time)</th>\n",
       "      <th>R, fraction of sleep time spent in REM</th>\n",
       "      <th>Brain mass, g</th>\n",
       "      <th>Body mass, kg</th>\n",
       "      <th>Body mass ref.</th>\n",
       "    </tr>\n",
       "  </thead>\n",
       "  <tbody>\n",
       "    <tr>\n",
       "      <th>1</th>\n",
       "      <td>Short-nosed echidna</td>\n",
       "      <td>Tachyglossus aculeatus</td>\n",
       "      <td>8.6</td>\n",
       "      <td>NaN</td>\n",
       "      <td>NaN</td>\n",
       "      <td>15.4</td>\n",
       "      <td>0.558442</td>\n",
       "      <td>NaN</td>\n",
       "      <td>25</td>\n",
       "      <td>4.5</td>\n",
       "      <td>2</td>\n",
       "    </tr>\n",
       "    <tr>\n",
       "      <th>2</th>\n",
       "      <td>North American Opossum</td>\n",
       "      <td>Didelphis virgiania</td>\n",
       "      <td>18</td>\n",
       "      <td>4.9</td>\n",
       "      <td>20</td>\n",
       "      <td>6</td>\n",
       "      <td>3</td>\n",
       "      <td>0.272222</td>\n",
       "      <td>6.3</td>\n",
       "      <td>1.7</td>\n",
       "      <td>3</td>\n",
       "    </tr>\n",
       "    <tr>\n",
       "      <th>3</th>\n",
       "      <td>Thick-tailed opposum</td>\n",
       "      <td>Lutreolina crassicaudata</td>\n",
       "      <td>19.4</td>\n",
       "      <td>6.6</td>\n",
       "      <td>NaN</td>\n",
       "      <td>4.6</td>\n",
       "      <td>4.217391</td>\n",
       "      <td>0.340206</td>\n",
       "      <td>NaN</td>\n",
       "      <td>0.37</td>\n",
       "      <td>4</td>\n",
       "    </tr>\n",
       "    <tr>\n",
       "      <th>4</th>\n",
       "      <td>Phalanger</td>\n",
       "      <td>Phalanger orientalis</td>\n",
       "      <td>13.7</td>\n",
       "      <td>1.8</td>\n",
       "      <td>NaN</td>\n",
       "      <td>10.3</td>\n",
       "      <td>1.330097</td>\n",
       "      <td>0.131387</td>\n",
       "      <td>11.4</td>\n",
       "      <td>1.62</td>\n",
       "      <td>3</td>\n",
       "    </tr>\n",
       "    <tr>\n",
       "      <th>5</th>\n",
       "      <td>Potoroo</td>\n",
       "      <td>Potorous tridactylus</td>\n",
       "      <td>11.1</td>\n",
       "      <td>1.5</td>\n",
       "      <td>NaN</td>\n",
       "      <td>12.9</td>\n",
       "      <td>0.860465</td>\n",
       "      <td>0.135135</td>\n",
       "      <td>NaN</td>\n",
       "      <td>1.1</td>\n",
       "      <td>2</td>\n",
       "    </tr>\n",
       "    <tr>\n",
       "      <th>6</th>\n",
       "      <td>European hedgehog</td>\n",
       "      <td>Erinaceus europaeus</td>\n",
       "      <td>10.1</td>\n",
       "      <td>3.5</td>\n",
       "      <td>17</td>\n",
       "      <td>13.9</td>\n",
       "      <td>0.726619</td>\n",
       "      <td>0.346535</td>\n",
       "      <td>3.5</td>\n",
       "      <td>0.77</td>\n",
       "      <td>2</td>\n",
       "    </tr>\n",
       "    <tr>\n",
       "      <th>7</th>\n",
       "      <td>Desert hedgehog</td>\n",
       "      <td>Paraechinus hypomelas</td>\n",
       "      <td>10.3</td>\n",
       "      <td>2.7</td>\n",
       "      <td>NaN</td>\n",
       "      <td>13.7</td>\n",
       "      <td>0.751825</td>\n",
       "      <td>0.262136</td>\n",
       "      <td>2.4</td>\n",
       "      <td>0.55</td>\n",
       "      <td>3</td>\n",
       "    </tr>\n",
       "    <tr>\n",
       "      <th>8</th>\n",
       "      <td>Tenrec</td>\n",
       "      <td>Tenrec ecaudatus</td>\n",
       "      <td>15.6</td>\n",
       "      <td>2.3</td>\n",
       "      <td>NaN</td>\n",
       "      <td>8.4</td>\n",
       "      <td>1.857143</td>\n",
       "      <td>0.147436</td>\n",
       "      <td>2.6</td>\n",
       "      <td>0.9</td>\n",
       "      <td>3</td>\n",
       "    </tr>\n",
       "    <tr>\n",
       "      <th>9</th>\n",
       "      <td>Greater short-tailed shrew</td>\n",
       "      <td>Blarina brevicauda</td>\n",
       "      <td>14.9</td>\n",
       "      <td>2.3</td>\n",
       "      <td>8</td>\n",
       "      <td>9.1</td>\n",
       "      <td>1.637363</td>\n",
       "      <td>0.154362</td>\n",
       "      <td>0.29</td>\n",
       "      <td>0.019</td>\n",
       "      <td>3</td>\n",
       "    </tr>\n",
       "    <tr>\n",
       "      <th>10</th>\n",
       "      <td>Lesser short-tailed shrew</td>\n",
       "      <td>Cryptotis parva</td>\n",
       "      <td>9.1</td>\n",
       "      <td>1.4</td>\n",
       "      <td>9</td>\n",
       "      <td>14.9</td>\n",
       "      <td>0.610738</td>\n",
       "      <td>0.153846</td>\n",
       "      <td>0.14</td>\n",
       "      <td>0.005</td>\n",
       "      <td>3</td>\n",
       "    </tr>\n",
       "  </tbody>\n",
       "</table>\n",
       "</div>"
      ],
      "text/plain": [
       "0                  Common name             Genus species Total sleep time, hr  \\\n",
       "1          Short-nosed echidna    Tachyglossus aculeatus                  8.6   \n",
       "2       North American Opossum       Didelphis virgiania                   18   \n",
       "3         Thick-tailed opposum  Lutreolina crassicaudata                 19.4   \n",
       "4                    Phalanger      Phalanger orientalis                 13.7   \n",
       "5                      Potoroo      Potorous tridactylus                 11.1   \n",
       "6            European hedgehog       Erinaceus europaeus                 10.1   \n",
       "7              Desert hedgehog     Paraechinus hypomelas                 10.3   \n",
       "8                       Tenrec          Tenrec ecaudatus                 15.6   \n",
       "9   Greater short-tailed shrew        Blarina brevicauda                 14.9   \n",
       "10   Lesser short-tailed shrew           Cryptotis parva                  9.1   \n",
       "\n",
       "0  REM sleep time, hr sleep cycle time, min Total awake time, hrs  \\\n",
       "1                 NaN                   NaN                  15.4   \n",
       "2                 4.9                    20                     6   \n",
       "3                 6.6                   NaN                   4.6   \n",
       "4                 1.8                   NaN                  10.3   \n",
       "5                 1.5                   NaN                  12.9   \n",
       "6                 3.5                    17                  13.9   \n",
       "7                 2.7                   NaN                  13.7   \n",
       "8                 2.3                   NaN                   8.4   \n",
       "9                 2.3                     8                   9.1   \n",
       "10                1.4                     9                  14.9   \n",
       "\n",
       "0  (Total sleep time)/(Total awake time)  \\\n",
       "1                               0.558442   \n",
       "2                                      3   \n",
       "3                               4.217391   \n",
       "4                               1.330097   \n",
       "5                               0.860465   \n",
       "6                               0.726619   \n",
       "7                               0.751825   \n",
       "8                               1.857143   \n",
       "9                               1.637363   \n",
       "10                              0.610738   \n",
       "\n",
       "0  R, fraction of sleep time spent in REM Brain mass, g Body mass, kg  \\\n",
       "1                                     NaN            25           4.5   \n",
       "2                                0.272222           6.3           1.7   \n",
       "3                                0.340206           NaN          0.37   \n",
       "4                                0.131387          11.4          1.62   \n",
       "5                                0.135135           NaN           1.1   \n",
       "6                                0.346535           3.5          0.77   \n",
       "7                                0.262136           2.4          0.55   \n",
       "8                                0.147436           2.6           0.9   \n",
       "9                                0.154362          0.29         0.019   \n",
       "10                               0.153846          0.14         0.005   \n",
       "\n",
       "0  Body mass ref.  \n",
       "1               2  \n",
       "2               3  \n",
       "3               4  \n",
       "4               3  \n",
       "5               2  \n",
       "6               2  \n",
       "7               3  \n",
       "8               3  \n",
       "9               3  \n",
       "10              3  "
      ]
     },
     "execution_count": 4,
     "metadata": {},
     "output_type": "execute_result"
    }
   ],
   "source": [
    "db = pd.read_excel('data/10080Table1.xls')\n",
    "new_header = db.iloc[0] #toma la primera fila para la cabecera\n",
    "db = db[1:]             #toma los datos menos la fila de la cabecera \n",
    "db.columns = new_header #poner la fila de cabecera como cabecera de df\n",
    "db = db.iloc[0:10]\n",
    "db"
   ]
  },
  {
   "cell_type": "code",
   "execution_count": 5,
   "metadata": {},
   "outputs": [
    {
     "data": {
      "text/plain": [
       "[8.6, 18, 19.4, 13.7, 11.1, 10.1, 10.3, 15.6, 14.9, 9.1]"
      ]
     },
     "execution_count": 5,
     "metadata": {},
     "output_type": "execute_result"
    }
   ],
   "source": [
    "#archivo xls tranformado a dataframe y seleccionando los primero 10 registros de la columna \"Total awake time, hrs\" \n",
    "#y cree una lista de nombre lista 1 \n",
    "lista1 = list(db['Total sleep time, hr'])\n",
    "lista1"
   ]
  },
  {
   "cell_type": "code",
   "execution_count": 4,
   "metadata": {},
   "outputs": [
    {
     "data": {
      "text/plain": [
       "13.079999999999998"
      ]
     },
     "execution_count": 4,
     "metadata": {},
     "output_type": "execute_result"
    }
   ],
   "source": [
    "sum(lista1)/len(lista1)\n",
    "#13.079"
   ]
  },
  {
   "cell_type": "code",
   "execution_count": 5,
   "metadata": {},
   "outputs": [
    {
     "data": {
      "text/plain": [
       "13.08"
      ]
     },
     "execution_count": 5,
     "metadata": {},
     "output_type": "execute_result"
    }
   ],
   "source": [
    "round(sum(lista1)/len(lista1),3)\n",
    "#13.08"
   ]
  },
  {
   "cell_type": "code",
   "execution_count": 6,
   "metadata": {},
   "outputs": [
    {
     "data": {
      "text/plain": [
       "10.1"
      ]
     },
     "execution_count": 6,
     "metadata": {},
     "output_type": "execute_result"
    }
   ],
   "source": [
    "lista1[5]\n",
    "#10.1"
   ]
  },
  {
   "cell_type": "code",
   "execution_count": 7,
   "metadata": {},
   "outputs": [
    {
     "data": {
      "text/plain": [
       "[14.9, 9.1]"
      ]
     },
     "execution_count": 7,
     "metadata": {},
     "output_type": "execute_result"
    }
   ],
   "source": [
    "lista1[8:]\n",
    "#[14.9,9.1]"
   ]
  },
  {
   "cell_type": "code",
   "execution_count": 8,
   "metadata": {},
   "outputs": [],
   "source": [
    "lista1.extend([\"gbi6\",\"bio1\",\"ikiam\"])"
   ]
  },
  {
   "cell_type": "code",
   "execution_count": 9,
   "metadata": {},
   "outputs": [
    {
     "data": {
      "text/plain": [
       "13"
      ]
     },
     "execution_count": 9,
     "metadata": {},
     "output_type": "execute_result"
    }
   ],
   "source": [
    "len(lista1)\n",
    "#13"
   ]
  },
  {
   "cell_type": "code",
   "execution_count": 10,
   "metadata": {},
   "outputs": [],
   "source": [
    "lista1.append([\"gbi6\",\"bio1\",\"ikiam\"])\n",
    "#no retorna nada "
   ]
  },
  {
   "cell_type": "code",
   "execution_count": 11,
   "metadata": {},
   "outputs": [
    {
     "data": {
      "text/plain": [
       "'ikiam'"
      ]
     },
     "execution_count": 11,
     "metadata": {},
     "output_type": "execute_result"
    }
   ],
   "source": [
    "lista1[-1][2]\n",
    "#ikiam"
   ]
  }
 ],
 "metadata": {
  "kernelspec": {
   "display_name": "Python 3",
   "language": "python",
   "name": "python3"
  },
  "language_info": {
   "codemirror_mode": {
    "name": "ipython",
    "version": 3
   },
   "file_extension": ".py",
   "mimetype": "text/x-python",
   "name": "python",
   "nbconvert_exporter": "python",
   "pygments_lexer": "ipython3",
   "version": "3.8.8"
  }
 },
 "nbformat": 4,
 "nbformat_minor": 4
}
